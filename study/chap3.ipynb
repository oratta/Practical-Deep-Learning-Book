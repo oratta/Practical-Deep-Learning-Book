{
 "cells": [
  {
   "cell_type": "code",
   "execution_count": 1,
   "id": "8a23951a-2ff0-4938-88d0-0268c55a200e",
   "metadata": {
    "tags": []
   },
   "outputs": [],
   "source": [
    "import tensorflow as tf\n",
    "from tensorflow.keras.preprocessing.image import ImageDataGenerator\n",
    "from tensorflow.keras.models import Model\n",
    "from tensorflow.keras.layers import Input, Flatten, Dense, Dropout, GlobalAveragePooling2D\n",
    "from tensorflow.keras.applications.mobilenet import MobileNet, preprocess_input\n",
    "import math"
   ]
  },
  {
   "cell_type": "code",
   "execution_count": 2,
   "id": "84d33df4-b05a-4503-9482-ac6423b5d9be",
   "metadata": {
    "tags": []
   },
   "outputs": [],
   "source": [
    "TRAIN_DATA_DIR = 'data/train/'\n",
    "VALIDATION_DATA_DIR = 'data/val/'\n",
    "TRAIN_SAMPLES = 500\n",
    "VALIDATION_SAMPLES = 500\n",
    "NUM_CLASSES = 2\n",
    "IMG_WIDTH, IMG_HEIGHT = 224, 224\n",
    "BATCH_SIZE = 64"
   ]
  },
  {
   "cell_type": "code",
   "execution_count": 3,
   "id": "de0eee63-d4a3-46b3-95ff-604f2571ecc2",
   "metadata": {
    "tags": []
   },
   "outputs": [],
   "source": [
    "train_datagen = ImageDataGenerator(preprocessing_function=preprocess_input,\n",
    "                                   rotation_range=20,\n",
    "                                   width_shift_range=0.2,\n",
    "                                   height_shift_range=0.2,\n",
    "                                   zoom_range=0.2)\n",
    "val_datagen = ImageDataGenerator(preprocessing_function=preprocess_input)"
   ]
  },
  {
   "cell_type": "code",
   "execution_count": 4,
   "id": "e1c34004-75a5-48cc-b50e-319821813051",
   "metadata": {
    "tags": []
   },
   "outputs": [
    {
     "name": "stdout",
     "output_type": "stream",
     "text": [
      "Found 500 images belonging to 2 classes.\n",
      "Found 500 images belonging to 2 classes.\n"
     ]
    }
   ],
   "source": [
    "train_generator = train_datagen.flow_from_directory(TRAIN_DATA_DIR,\n",
    "                                                    target_size=(IMG_WIDTH, IMG_HEIGHT),\n",
    "                                                    batch_size=BATCH_SIZE,\n",
    "                                                    shuffle=True,\n",
    "                                                    seed=12345,\n",
    "                                                    class_mode=\"categorical\")\n",
    "validation_generator = val_datagen.flow_from_directory(\n",
    "    VALIDATION_DATA_DIR,\n",
    "    target_size=(IMG_WIDTH, IMG_HEIGHT),\n",
    "    batch_size=BATCH_SIZE,\n",
    "    shuffle=False,\n",
    "    class_mode='categorical')"
   ]
  },
  {
   "cell_type": "code",
   "execution_count": 5,
   "id": "61c5acd5-e62c-40a5-b3a5-2b5a0775d026",
   "metadata": {
    "tags": []
   },
   "outputs": [],
   "source": [
    "def model_maker():\n",
    "    base_model = MobileNet(include_top=False,\n",
    "                           input_shape=(IMG_WIDTH, IMG_HEIGHT, 3))\n",
    "    for layer in base_model.layers[:]:\n",
    "        layer.trainable = False\n",
    "    input = Input(shape=(IMG_WIDTH, IMG_HEIGHT, 3))\n",
    "    custom_model = base_model(input)\n",
    "    custom_model = GlobalAveragePooling2D()(custom_model)\n",
    "    custom_model = Dense(64, activation='relu')(custom_model)\n",
    "    custom_model = Dropout(0.5)(custom_model)\n",
    "    predictions = Dense(NUM_CLASSES, activation='softmax')(custom_model)\n",
    "    return Model(inputs=input, outputs=predictions)\n",
    "    "
   ]
  },
  {
   "cell_type": "code",
   "execution_count": 6,
   "id": "dbd3df29-db5d-4676-8450-b285142c861c",
   "metadata": {
    "tags": []
   },
   "outputs": [
    {
     "name": "stdout",
     "output_type": "stream",
     "text": [
      "Epoch 1/10\n",
      "8/8 [==============================] - 6s 756ms/step - loss: 0.6837 - acc: 0.7060 - val_loss: 0.1652 - val_acc: 0.9480\n",
      "Epoch 2/10\n",
      "8/8 [==============================] - 6s 721ms/step - loss: 0.2278 - acc: 0.8980 - val_loss: 0.1243 - val_acc: 0.9540\n",
      "Epoch 3/10\n",
      "8/8 [==============================] - 6s 716ms/step - loss: 0.1359 - acc: 0.9480 - val_loss: 0.0991 - val_acc: 0.9640\n",
      "Epoch 4/10\n",
      "8/8 [==============================] - 6s 724ms/step - loss: 0.1380 - acc: 0.9420 - val_loss: 0.1023 - val_acc: 0.9540\n",
      "Epoch 5/10\n",
      "8/8 [==============================] - 6s 730ms/step - loss: 0.0954 - acc: 0.9680 - val_loss: 0.0932 - val_acc: 0.9680\n",
      "Epoch 6/10\n",
      "8/8 [==============================] - 6s 733ms/step - loss: 0.0724 - acc: 0.9780 - val_loss: 0.0886 - val_acc: 0.9700\n",
      "Epoch 7/10\n",
      "8/8 [==============================] - 6s 718ms/step - loss: 0.0768 - acc: 0.9680 - val_loss: 0.0870 - val_acc: 0.9680\n",
      "Epoch 8/10\n",
      "8/8 [==============================] - 6s 722ms/step - loss: 0.0726 - acc: 0.9700 - val_loss: 0.0820 - val_acc: 0.9720\n",
      "Epoch 9/10\n",
      "8/8 [==============================] - 6s 723ms/step - loss: 0.0706 - acc: 0.9720 - val_loss: 0.0831 - val_acc: 0.9700\n",
      "Epoch 10/10\n",
      "8/8 [==============================] - 6s 706ms/step - loss: 0.0826 - acc: 0.9600 - val_loss: 0.0825 - val_acc: 0.9640\n"
     ]
    },
    {
     "data": {
      "text/plain": [
       "<keras.src.callbacks.History at 0x17a550650>"
      ]
     },
     "execution_count": 6,
     "metadata": {},
     "output_type": "execute_result"
    }
   ],
   "source": [
    "model = model_maker()\n",
    "model.compile(loss=\"categorical_crossentropy\",\n",
    "              optimizer=tf.keras.optimizers.legacy.Adam(0.001),\n",
    "              metrics=[\"acc\"])\n",
    "model.fit(\n",
    "    train_generator,\n",
    "    steps_per_epoch=math.ceil(float(TRAIN_SAMPLES) / BATCH_SIZE),\n",
    "    epochs=10,\n",
    "    validation_data=validation_generator,\n",
    "    validation_steps=math.ceil(float(VALIDATION_SAMPLES) / BATCH_SIZE))"
   ]
  },
  {
   "cell_type": "code",
   "execution_count": 7,
   "id": "bd2a3aa8-3f92-40cf-8536-e0185ce49bd0",
   "metadata": {
    "tags": []
   },
   "outputs": [
    {
     "name": "stderr",
     "output_type": "stream",
     "text": [
      "/Users/oratta/anaconda3/lib/python3.11/site-packages/keras/src/engine/training.py:3000: UserWarning: You are saving your model as an HDF5 file via `model.save()`. This file format is considered legacy. We recommend using instead the native Keras format, e.g. `model.save('my_model.keras')`.\n",
      "  saving_api.save_model(\n"
     ]
    }
   ],
   "source": [
    "model.save('model.h5')"
   ]
  },
  {
   "cell_type": "code",
   "execution_count": 8,
   "id": "7a86cbc2-4cd7-42c9-b02c-d99311bca080",
   "metadata": {},
   "outputs": [],
   "source": [
    "from tensorflow.keras.models import load_model\n",
    "from tensorflow.keras.preprocessing import image\n",
    "import numpy as np\n",
    "model = load_model(\"model.h5\")"
   ]
  },
  {
   "cell_type": "code",
   "execution_count": 9,
   "id": "032f74d5-c114-4cfc-8b83-cb34d5f74cbb",
   "metadata": {
    "tags": []
   },
   "outputs": [
    {
     "name": "stdout",
     "output_type": "stream",
     "text": [
      "1/1 [==============================] - 0s 164ms/step\n",
      "[[0.12561621 0.8743838 ]]\n",
      "{'cat': 0, 'dog': 1}\n"
     ]
    }
   ],
   "source": [
    "img_path = \"../sample-images/dog.jpg\"\n",
    "img = image.load_img(img_path, target_size=(224,224))\n",
    "img_array = image.img_to_array(img)\n",
    "expanded_img_array = np.expand_dims(img_array, axis=0)\n",
    "preprocessed_img = expanded_img_array / 255.\n",
    "prediction = model.predict(preprocessed_img)\n",
    "print(prediction)\n",
    "print(validation_generator.class_indices)"
   ]
  },
  {
   "cell_type": "code",
   "execution_count": 12,
   "id": "58525f66-269e-4ce5-9f36-b133685e183e",
   "metadata": {
    "tags": []
   },
   "outputs": [
    {
     "name": "stdout",
     "output_type": "stream",
     "text": [
      "Found 500 images belonging to 2 classes.\n"
     ]
    }
   ],
   "source": [
    "##結果の分析##\n",
    "# 最も確率が高いとされた画像はどれ？\n",
    "# 最も確率が低いとされた画像はどれ？\n",
    "# 確率が高いのに、予測が誤っていた画像はどれ？\n",
    "\n",
    "IMG_WIDTH, IMG_HEIGHT = 224,224\n",
    "VALIDATION_DATA_DIR = \"data/val\"\n",
    "VALIDATION_BATCH_SIZE = 64\n",
    "\n",
    "# データジェネレータ\n",
    "validation_datagen = ImageDataGenerator(\n",
    "    preprocessing_function=preprocess_input)\n",
    "validation_generator = validation_datagen.flow_from_directory(\n",
    "    VALIDATION_DATA_DIR,\n",
    "    target_size=(IMG_WIDTH, IMG_HEIGHT),\n",
    "    batch_size=VALIDATION_BATCH_SIZE,\n",
    "    shuffle=False,\n",
    "    class_mode=\"categorical\")\n",
    "ground_truth = validation_generator.classes"
   ]
  },
  {
   "cell_type": "code",
   "execution_count": 13,
   "id": "cbe90a17-dc19-4a44-9018-da26dd96e7d9",
   "metadata": {
    "tags": []
   },
   "outputs": [
    {
     "name": "stdout",
     "output_type": "stream",
     "text": [
      "8/8 [==============================] - 2s 231ms/step\n"
     ]
    }
   ],
   "source": [
    "predictions = model.predict(validation_generator)"
   ]
  },
  {
   "cell_type": "code",
   "execution_count": 16,
   "id": "a553d9da-86e7-4895-9ac2-927d64faaafb",
   "metadata": {
    "tags": []
   },
   "outputs": [],
   "source": [
    "# 分析のために、画像にインデックスと予測結果と正解flagを持たせたディクショナリの作成\n",
    "prediction_table = {}\n",
    "for index, val in enumerate(predictions):\n",
    "    index_of_highest_probability = np.argmax(val) #一番確率が高かった\n",
    "    value_of_highest_probability = val[index_of_highest_probability]\n",
    "    prediction_table[index] = [value_of_highest_probability, index_of_highest_probability, ground_truth[index]]\n",
    "assert len(predictions) == len(ground_truth) == len(prediction_table)"
   ]
  },
  {
   "cell_type": "code",
   "execution_count": 17,
   "id": "3e372402-4da5-457c-8f59-f093986a77a8",
   "metadata": {
    "tags": []
   },
   "outputs": [],
   "source": [
    "### 途中までやったけど、分析は別のファイルでやってみる"
   ]
  }
 ],
 "metadata": {
  "kernelspec": {
   "display_name": "Python 3 (ipykernel)",
   "language": "python",
   "name": "python3"
  },
  "language_info": {
   "codemirror_mode": {
    "name": "ipython",
    "version": 3
   },
   "file_extension": ".py",
   "mimetype": "text/x-python",
   "name": "python",
   "nbconvert_exporter": "python",
   "pygments_lexer": "ipython3",
   "version": "3.11.3"
  }
 },
 "nbformat": 4,
 "nbformat_minor": 5
}
